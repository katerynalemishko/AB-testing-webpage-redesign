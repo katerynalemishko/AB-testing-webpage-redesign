{
 "cells": [
  {
   "cell_type": "markdown",
   "id": "straight-martial",
   "metadata": {},
   "source": [
    "# A/B testing: Online shop subscription form redesign"
   ]
  },
  {
   "cell_type": "markdown",
   "id": "acting-destiny",
   "metadata": {},
   "source": [
    "In this project, we will analyze an A/B test to study the impact of a new subscription form design from an online shop \n",
    "selling handmade items and craft supplies.\n",
    "\n",
    "The project will be devided in the following six parts:\n",
    "\n",
    "1. [Can we improve the opt-in subscription rate by more than two times with the new subscription form design?](#1.-Can-we-improve-the-opt-in-subscription-rate-by-more-than-two-times-with-the-new-subscription-form-design?)\n",
    "2. [Designing the experiment](#2.-Designing-the-experiment)   \n",
    "3. [Data preparation](#3.-Data-preparation)\n",
    "4. [Visualising the data](#4.-Visualising-the-data)\n",
    "5. [Hypothesis testing](#5.-Hypothesis-testing)\n",
    "6. [Conclusions](#6.-Conclusions)"
   ]
  },
  {
   "cell_type": "markdown",
   "id": "photographic-injury",
   "metadata": {},
   "source": [
    "\n",
    "## 1. Can we improve the opt-in subscription rate by more than two times with the new subscription form design? "
   ]
  },
  {
   "cell_type": "markdown",
   "id": "oriental-membership",
   "metadata": {},
   "source": [
    "\n",
    "Our online shop marketing team wants to foster customer loyalty and drive sales via email amrketing.\n",
    "They entice the shops webpage visitors to join their opt-in email subscription by placing an email form together with a discount offer as a stimulus on their landing page.\n",
    "\n",
    "However, the marketing team was unhappy with the opt-in rate on their landing page: it was about 7% and they were losing many potential customers.\n",
    "The team set the goal of increasing the opt-in rate to 15% and in order to achive this objective they decided to change the design of the opt-in subscription form from <em><strong>Desingn A</strong></em>  to <em><strong>Desingn B</strong></em>.   \n",
    "\n",
    "The team decided that they needed to conduct an A/B test on the shop's webpage to find out whether the new subscription form design will result in the desirable opt-in rate increment.\n",
    "\n",
    "\n",
    "\n",
    "<div>\n",
    "<img src=\"Picture_1.png\">\n",
    "</div>\n",
    "\n"
   ]
  },
  {
   "cell_type": "markdown",
   "id": "specified-inflation",
   "metadata": {},
   "source": [
    "## 2. Designing the experiment"
   ]
  },
  {
   "cell_type": "markdown",
   "id": "signed-removal",
   "metadata": {},
   "source": [
    "\n",
    "### Formulating a hypothesis\n",
    "\n",
    "First, to ensure the correct interpretation of the results, we will formulate the Null and Alternative hypothesis we want to test.\n",
    "\n",
    "Considering the fact that we don't know whether the new design will perform better or worse than the current design, we will use a <a href=\"https://en.wikipedia.org/wiki/One-_and_two-tailed_tests\">**two-tailed test**</a>:\n",
    "\n",
    "$$H_0: p = p_0$$\n",
    "$$H_a: p \\ne p_0$$\n",
    "\n",
    "where $p$ and $p_0$ are the opt-in rates of the new and old design, respectively.\n",
    "So in our null  hypotheis the opt-in rates of the new and the old designs are the same. The alternative hypothesis states that the opt-in are significantly different.\n",
    "\n",
    "We will also set a **confidence level of 95%**:\n",
    "\n",
    "$$\\alpha = 0.05$$\n",
    "\n",
    "So if the probability of observing a result as extreme or more ($p$-value) is lower than $\\alpha$, we can reject the null hypothesis\".\n",
    " \n",
    "    \n",
    "For our A/B test we will devide the webpage visitors in **two groups**:\n",
    "* The visitors from the `control` group will be shown the old webpage design (Design A).\n",
    "* The visitors from the `experimental` group will be shown the new design (Design B)\n",
    "\n",
    "The opt-in rate will be captured with a binary variable:\n",
    "* `0` - the visitor did not join to the opt-in subscription\n",
    "* `1` - the visitor joined the subscription. \n",
    "\n",
    "\n",
    "### Finding the sample size of the control and experimental groups\n",
    "\n",
    "Before conducting the test, we need to determine the optimal sample size of the control and experimental groups and for how long we need to conduct the test.\n",
    "We want the size of our samples to be large enough to detect the defference between the two groups (we want to have a sufficient statistical power) and we want to run our experiment for reasonably short time.\n",
    "\n",
    "We can use Power Analysis to find the required size of our samples.\n",
    "Power Analysis considers the following factors:\n",
    "* **($1 - \\beta$) : the power of the test**, which represents the probability of correctly rejecting our null hypothesis (finding a statistically significant difference between the groups in our test when there is actually a difference). We will set this value to 80%.\n",
    "    \n",
    "* **$\\alpha$: the significance level of the test**, which represents the probability of incorrectly rejecting the null hypothesis indicates (finding a statistically significant difference between the groups in our test when there is no actual difference). As we said before, we will set this value to 5%.\n",
    "    \n",
    "* **$\\delta$: the effect size**, which represents how big is the difference between the opt-in rates that we expect.\n",
    "    \n",
    "Let's calculate the sample sizes that we need for our A/B test:"
   ]
  },
  {
   "cell_type": "code",
   "execution_count": 1,
   "id": "qualified-oasis",
   "metadata": {},
   "outputs": [],
   "source": [
    "# Packages imports\n",
    "import numpy as np\n",
    "import pandas as pd\n",
    "import scipy.stats as stats\n",
    "import statsmodels.stats.api as sms\n",
    "import matplotlib as mpl\n",
    "import matplotlib.pyplot as plt\n",
    "import seaborn as sns\n",
    "from math import ceil\n",
    "\n",
    "import datetime\n",
    "\n",
    "sns.set(font_scale = 2)\n",
    "\n",
    "%matplotlib inline"
   ]
  },
  {
   "cell_type": "code",
   "execution_count": 2,
   "id": "different-europe",
   "metadata": {},
   "outputs": [
    {
     "name": "stdout",
     "output_type": "stream",
     "text": [
      "Our samples need to be of a size of: 233\n"
     ]
    }
   ],
   "source": [
    "# Calculating effect size based on our expected opt-in rates\n",
    "eff_size = sms.proportion_effectsize(0.07, 0.15)    \n",
    "\n",
    "# Calculate sample size needed\n",
    "N_required = sms.NormalIndPower().solve_power(\n",
    "    eff_size, \n",
    "    power=0.8, \n",
    "    alpha=0.05, \n",
    "    ratio=1\n",
    "    )                                                  \n",
    "\n",
    "# Round up to next whole number  \n",
    "N_required= ceil(N_required)                                                  \n",
    "\n",
    "print(\"Our samples need to be of a size of:\", N_required)"
   ]
  },
  {
   "cell_type": "markdown",
   "id": "ordinary-shell",
   "metadata": {},
   "source": [
    "So for our A/B test we need to have at least 233 observetions in each group.\n",
    "\n",
    "### Finding the optimal duration of the experiment\n",
    "\n",
    "Knowing the sample size, we need to calculate the number of days during which we will conduct the experiment on the shops webpage,\n",
    "\n",
    "The shop's webpage has on average 38 visitors per day. To obtain the sufficient amount of visitors for our two groups, we need to conduct the experiment for 233*2/38 days, which is 12.26 days. \n",
    "Due to the variability in the page usage we decided to conduct the experiment during 15 days so we can ennsure that we sample enough number of visitor for our control and experimental groups.\n",
    "\n",
    "We collected the experiment results in a data set. \n",
    "Let's inspect it!"
   ]
  },
  {
   "cell_type": "markdown",
   "id": "detected-truck",
   "metadata": {},
   "source": [
    "## 3. Data preparation"
   ]
  },
  {
   "cell_type": "code",
   "execution_count": 3,
   "id": "adverse-register",
   "metadata": {},
   "outputs": [
    {
     "data": {
      "text/html": [
       "<div>\n",
       "<style scoped>\n",
       "    .dataframe tbody tr th:only-of-type {\n",
       "        vertical-align: middle;\n",
       "    }\n",
       "\n",
       "    .dataframe tbody tr th {\n",
       "        vertical-align: top;\n",
       "    }\n",
       "\n",
       "    .dataframe thead th {\n",
       "        text-align: right;\n",
       "    }\n",
       "</style>\n",
       "<table border=\"1\" class=\"dataframe\">\n",
       "  <thead>\n",
       "    <tr style=\"text-align: right;\">\n",
       "      <th></th>\n",
       "      <th>user_id</th>\n",
       "      <th>timestamp</th>\n",
       "      <th>group</th>\n",
       "      <th>page_design</th>\n",
       "      <th>subscribed</th>\n",
       "    </tr>\n",
       "  </thead>\n",
       "  <tbody>\n",
       "    <tr>\n",
       "      <th>0</th>\n",
       "      <td>829015</td>\n",
       "      <td>2021-01-05 00:31:25.931433</td>\n",
       "      <td>control</td>\n",
       "      <td>Design_A</td>\n",
       "      <td>0</td>\n",
       "    </tr>\n",
       "    <tr>\n",
       "      <th>1</th>\n",
       "      <td>648683</td>\n",
       "      <td>2021-01-05 00:46:06.449401</td>\n",
       "      <td>control</td>\n",
       "      <td>Design_A</td>\n",
       "      <td>0</td>\n",
       "    </tr>\n",
       "    <tr>\n",
       "      <th>2</th>\n",
       "      <td>833966</td>\n",
       "      <td>2021-01-05 01:00:13.387265</td>\n",
       "      <td>experimental</td>\n",
       "      <td>Design_B</td>\n",
       "      <td>0</td>\n",
       "    </tr>\n",
       "    <tr>\n",
       "      <th>3</th>\n",
       "      <td>834548</td>\n",
       "      <td>2021-01-05 03:26:22.647058</td>\n",
       "      <td>experimental</td>\n",
       "      <td>Design_B</td>\n",
       "      <td>0</td>\n",
       "    </tr>\n",
       "    <tr>\n",
       "      <th>4</th>\n",
       "      <td>895078</td>\n",
       "      <td>2021-01-05 04:33:31.568611</td>\n",
       "      <td>control</td>\n",
       "      <td>Design_A</td>\n",
       "      <td>0</td>\n",
       "    </tr>\n",
       "  </tbody>\n",
       "</table>\n",
       "</div>"
      ],
      "text/plain": [
       "   user_id                  timestamp         group page_design  subscribed\n",
       "0   829015 2021-01-05 00:31:25.931433       control    Design_A           0\n",
       "1   648683 2021-01-05 00:46:06.449401       control    Design_A           0\n",
       "2   833966 2021-01-05 01:00:13.387265  experimental    Design_B           0\n",
       "3   834548 2021-01-05 03:26:22.647058  experimental    Design_B           0\n",
       "4   895078 2021-01-05 04:33:31.568611       control    Design_A           0"
      ]
     },
     "execution_count": 3,
     "metadata": {},
     "output_type": "execute_result"
    }
   ],
   "source": [
    "#Reading the data\n",
    "data=pd.read_csv('ab_data.csv', parse_dates=[\"timestamp\"])\n",
    "\n",
    "data.head()"
   ]
  },
  {
   "cell_type": "code",
   "execution_count": 4,
   "id": "mature-crossing",
   "metadata": {},
   "outputs": [
    {
     "name": "stdout",
     "output_type": "stream",
     "text": [
      "<class 'pandas.core.frame.DataFrame'>\n",
      "RangeIndex: 476 entries, 0 to 475\n",
      "Data columns (total 5 columns):\n",
      " #   Column       Non-Null Count  Dtype         \n",
      "---  ------       --------------  -----         \n",
      " 0   user_id      476 non-null    int64         \n",
      " 1   timestamp    476 non-null    datetime64[ns]\n",
      " 2   group        476 non-null    object        \n",
      " 3   page_design  476 non-null    object        \n",
      " 4   subscribed   476 non-null    int64         \n",
      "dtypes: datetime64[ns](1), int64(2), object(2)\n",
      "memory usage: 18.7+ KB\n"
     ]
    }
   ],
   "source": [
    "data.info()"
   ]
  },
  {
   "cell_type": "code",
   "execution_count": 5,
   "id": "expressed-chosen",
   "metadata": {},
   "outputs": [
    {
     "name": "stdout",
     "output_type": "stream",
     "text": [
      "Experiment started:  2021-01-05 00:31:25.931433\n",
      "Experiment ended:  2021-01-19 22:46:49.574987\n",
      "Experiment duration:  14 days 22:15:23.643554\n"
     ]
    }
   ],
   "source": [
    "n_days=(max(data[\"timestamp\"])-min(data[\"timestamp\"]))\n",
    "print(\"Experiment started: \",min(data[\"timestamp\"]))\n",
    "print(\"Experiment ended: \", max(data[\"timestamp\"]))\n",
    "print(\"Experiment duration: \", n_days)"
   ]
  },
  {
   "cell_type": "markdown",
   "id": "under-geometry",
   "metadata": {},
   "source": [
    "We ran the experiment for 15 days from **January the 5th 2021** to **January the 19th 2021** (both inclusive).\n",
    "\n",
    "There are 476 rows in the DataFrame, each representing a user session, as well as 5 columns:\n",
    "    \n",
    "* `user_id` - indicating the user ID of each session\n",
    "* `timestamp` - indicating the timestamp for the session\n",
    "* `group` -indicating the group the user was assigned to {`control`, `ecperimental`}\n",
    "* `page_design` - indicating the webpage design the user saw on that session {`Design_A`, `Design_B`}\n",
    "* `subscribed` - indicating whether the user joined the opt-in subscription or not (binary, `0`=not subscribed, `1`=subscribed)\n",
    "\n",
    "\n",
    "Let's make sure thet all the visitors from the control group were shown the old design of the page (Design A), and all the visitors from the experimental group saw the new design of the page (Design B)."
   ]
  },
  {
   "cell_type": "code",
   "execution_count": 6,
   "id": "coral-means",
   "metadata": {},
   "outputs": [
    {
     "data": {
      "text/html": [
       "<div>\n",
       "<style scoped>\n",
       "    .dataframe tbody tr th:only-of-type {\n",
       "        vertical-align: middle;\n",
       "    }\n",
       "\n",
       "    .dataframe tbody tr th {\n",
       "        vertical-align: top;\n",
       "    }\n",
       "\n",
       "    .dataframe thead th {\n",
       "        text-align: right;\n",
       "    }\n",
       "</style>\n",
       "<table border=\"1\" class=\"dataframe\">\n",
       "  <thead>\n",
       "    <tr style=\"text-align: right;\">\n",
       "      <th>page_design</th>\n",
       "      <th>Design_A</th>\n",
       "      <th>Design_B</th>\n",
       "    </tr>\n",
       "    <tr>\n",
       "      <th>group</th>\n",
       "      <th></th>\n",
       "      <th></th>\n",
       "    </tr>\n",
       "  </thead>\n",
       "  <tbody>\n",
       "    <tr>\n",
       "      <th>control</th>\n",
       "      <td>238</td>\n",
       "      <td>0</td>\n",
       "    </tr>\n",
       "    <tr>\n",
       "      <th>experimental</th>\n",
       "      <td>0</td>\n",
       "      <td>238</td>\n",
       "    </tr>\n",
       "  </tbody>\n",
       "</table>\n",
       "</div>"
      ],
      "text/plain": [
       "page_design   Design_A  Design_B\n",
       "group                           \n",
       "control            238         0\n",
       "experimental         0       238"
      ]
     },
     "execution_count": 6,
     "metadata": {},
     "output_type": "execute_result"
    }
   ],
   "source": [
    "# To checl if all the people from the control group saw the webpage design A,\n",
    "# and all the people from the experimental group saw the new design B\n",
    "\n",
    "pd.crosstab(data['group'], data['page_design'])"
   ]
  },
  {
   "cell_type": "markdown",
   "id": "decreased-fraction",
   "metadata": {},
   "source": [
    "We can see that each of the two designs of the webpage  were shown to the same number of visitors - 238.\n",
    "\n",
    "Let's check if there are any duplicates in the recordered data."
   ]
  },
  {
   "cell_type": "code",
   "execution_count": 7,
   "id": "satisfied-intensity",
   "metadata": {},
   "outputs": [
    {
     "name": "stdout",
     "output_type": "stream",
     "text": [
      "     user_id                  timestamp    group  subscribed\n",
      "120   680345 2021-01-08 19:01:30.166015  control           0\n",
      "121   680345 2021-01-08 19:01:30.166015  control           0\n",
      "261   917610 2021-01-13 00:42:01.839750  control           0\n",
      "262   917610 2021-01-13 00:42:01.839750  control           0\n"
     ]
    }
   ],
   "source": [
    "# Find duplicates\n",
    "duplicates = data.duplicated(\"user_id\",keep=False)\n",
    "\n",
    "# Sort your duplicated visitors\n",
    "duplicated_visitors = data[duplicates].sort_values('user_id')\n",
    "\n",
    "# Print relevant columns of duplicated visitors\n",
    "print(duplicated_visitors[['user_id','timestamp','group','subscribed']])"
   ]
  },
  {
   "cell_type": "markdown",
   "id": "elegant-volunteer",
   "metadata": {},
   "source": [
    "Oops.., it looks like for some reason the entries of two users were recordered twice (corresponding to `user_id` = 680345, `user_id` = 917610).\n",
    "We can delete the duplicated values. \n"
   ]
  },
  {
   "cell_type": "code",
   "execution_count": 8,
   "id": "convenient-jenny",
   "metadata": {},
   "outputs": [],
   "source": [
    "# Drop complete duplicates from data\n",
    "data = data.drop_duplicates()"
   ]
  },
  {
   "cell_type": "code",
   "execution_count": 9,
   "id": "loose-choice",
   "metadata": {},
   "outputs": [
    {
     "name": "stdout",
     "output_type": "stream",
     "text": [
      "Empty DataFrame\n",
      "Columns: [user_id, timestamp, group, subscribed]\n",
      "Index: []\n",
      "data shape:  (474, 5)\n"
     ]
    }
   ],
   "source": [
    "# Find duplicates\n",
    "duplicates = data.duplicated(\"user_id\",keep=False)\n",
    "\n",
    "# Sort your duplicated visitors\n",
    "duplicated_visitors = data[duplicates].sort_values('user_id')\n",
    "\n",
    "# Print relevant columns of duplicated visitors\n",
    "print(duplicated_visitors[['user_id','timestamp','group','subscribed']])\n",
    "\n",
    "print(\"data shape: \", data.shape)"
   ]
  },
  {
   "cell_type": "code",
   "execution_count": 10,
   "id": "alone-possible",
   "metadata": {},
   "outputs": [
    {
     "data": {
      "text/plain": [
       "group\n",
       "control         236\n",
       "experimental    238\n",
       "Name: user_id, dtype: int64"
      ]
     },
     "execution_count": 10,
     "metadata": {},
     "output_type": "execute_result"
    }
   ],
   "source": [
    "# Counting the number of visitors in each group\n",
    "data.groupby(\"group\").count()[\"user_id\"]"
   ]
  },
  {
   "cell_type": "markdown",
   "id": "arabic-dream",
   "metadata": {},
   "source": [
    "After we removed the duplicated records, we checked our data for duplicates again. As you can see, there are no duplicated recorsd in the data now.\n",
    "\n",
    "As you can see, after we deleted the two duplicated records in the data, we get 474 observations in total, 236 of wich correspond to the conrol group and 238 belonged to the experimental group.\n",
    "\n",
    "To fix this, we can randomly chose 2 records from the experimental group and delete them from our data.\n"
   ]
  },
  {
   "cell_type": "code",
   "execution_count": 11,
   "id": "functioning-throw",
   "metadata": {},
   "outputs": [],
   "source": [
    "# Drop two random visitor records from the experimental group\n",
    "drop_indices = np.random.choice(data[data.group==\"experimental\"].index, 2, replace=False)\n",
    "data = data.drop(drop_indices)"
   ]
  },
  {
   "cell_type": "code",
   "execution_count": 12,
   "id": "stunning-tiffany",
   "metadata": {},
   "outputs": [
    {
     "data": {
      "text/plain": [
       "group\n",
       "control         236\n",
       "experimental    236\n",
       "Name: user_id, dtype: int64"
      ]
     },
     "execution_count": 12,
     "metadata": {},
     "output_type": "execute_result"
    }
   ],
   "source": [
    "# Counting the number of visitors in each group\n",
    "data.groupby(\"group\").count()[\"user_id\"]"
   ]
  },
  {
   "cell_type": "markdown",
   "id": "presidential-dispatch",
   "metadata": {},
   "source": [
    "AS you can see, now we have the equal amount of visitors in the two groups.\n",
    "\n",
    "Finally, let's check if we correctly recordered the subscription status for all the users (the variable `subscribed` should be equal either to 0 or 1)."
   ]
  },
  {
   "cell_type": "code",
   "execution_count": 13,
   "id": "traditional-bhutan",
   "metadata": {},
   "outputs": [
    {
     "name": "stdout",
     "output_type": "stream",
     "text": [
      "0\n"
     ]
    }
   ],
   "source": [
    "print(sum(pd.isnull(data[\"subscribed\"])))"
   ]
  },
  {
   "cell_type": "markdown",
   "id": "tracked-weekend",
   "metadata": {},
   "source": [
    "It looks like we don not have any missing values in the subscribed column.\n",
    "\n",
    "Our data is now ready for the analysis!"
   ]
  },
  {
   "cell_type": "markdown",
   "id": "forced-fellow",
   "metadata": {},
   "source": [
    "\n",
    "## 4. Visualising the data"
   ]
  },
  {
   "cell_type": "markdown",
   "id": "statewide-moldova",
   "metadata": {},
   "source": [
    "Let's start with looking at how the number of opt-in subscribers grew over the course of the experiment for the control and the experimental groups."
   ]
  },
  {
   "cell_type": "code",
   "execution_count": 14,
   "id": "advised-crazy",
   "metadata": {},
   "outputs": [],
   "source": [
    "import warnings\n",
    "warnings.filterwarnings('ignore')\n",
    "\n",
    "# Subsetting the data by the page design \n",
    "design_A=data[data[\"page_design\"]==\"Design_A\"]\n",
    "design_B=data[data[\"page_design\"]==\"Design_B\"]\n",
    "design_A[\"cum_subs\"]=design_A[\"subscribed\"].cumsum()\n",
    "design_B[\"cum_subs\"]=design_B[\"subscribed\"].cumsum()"
   ]
  },
  {
   "cell_type": "code",
   "execution_count": 15,
   "id": "level-bikini",
   "metadata": {},
   "outputs": [
    {
     "data": {
      "text/plain": [
       "<matplotlib.legend.Legend at 0x1fba5a7cf70>"
      ]
     },
     "execution_count": 15,
     "metadata": {},
     "output_type": "execute_result"
    },
    {
     "data": {
      "image/png": "[encoded data removed]",
      "text/plain": [
       "<Figure size 576x396 with 1 Axes>"
      ]
     },
     "metadata": {
      "needs_background": "light"
     },
     "output_type": "display_data"
    }
   ],
   "source": [
    "# Plot subscription percentage over time\n",
    "fig = plt.figure(figsize=(8, 5.5))\n",
    "ax = fig.add_axes([0,0,1,1])\n",
    "\n",
    "ax.set_title('Subscribed visitors over time',fontweight='bold',pad=20)\n",
    "ax.plot(design_A[\"timestamp\"],design_A[\"cum_subs\"],linewidth=3)\n",
    "ax.plot(design_B[\"timestamp\"],design_B[\"cum_subs\"],linewidth=3)\n",
    "plt.xticks( rotation = 45)\n",
    "plt.ylabel('Subscribed visitors',fontweight='bold')\n",
    "plt.xlabel(\"timeline\",fontweight='bold')\n",
    "\n",
    "ax.legend(labels=['control group', 'experimental group'],bbox_to_anchor=(1.55,0.9), loc=1)"
   ]
  },
  {
   "cell_type": "markdown",
   "id": "hundred-cartoon",
   "metadata": {},
   "source": [
    "By looking at the figure above, we can conclude that the total number of subscribers grew faster in the experimental group in comparison to what we see for the control group.\n",
    "\n",
    "Interestingly, at some point, between the 15th and 17th of January the number of subscribers in the control group started to grow faster. Lets's check some information about those dates."
   ]
  },
  {
   "cell_type": "code",
   "execution_count": 16,
   "id": "frequent-logan",
   "metadata": {},
   "outputs": [
    {
     "name": "stdout",
     "output_type": "stream",
     "text": [
      "Friday\n"
     ]
    }
   ],
   "source": [
    "date=datetime.date(2021, 1, 15)\n",
    "days = [\"Monday\",\"Tuesday\",\"Wednesday\",\"Thursday\",\"Friday\",\"Saturday\",\"Sunday\"]\n",
    "print(days[date.weekday()])"
   ]
  },
  {
   "cell_type": "markdown",
   "id": "diagnostic-immigration",
   "metadata": {},
   "source": [
    "It turns out that this unusual increment in the subscription rate within the control group happend over a weekend (the 15th of January 2021 was Friday and the 17th of January 2021 was Sunday). Hovewer we will not deep dive into further researching this question, because it goes beyond the scope of this project.\n",
    "\n",
    "Let's calculate the percentage of the users who joined and did not join the subscription for each group."
   ]
  },
  {
   "cell_type": "code",
   "execution_count": 17,
   "id": "inside-kazakhstan",
   "metadata": {},
   "outputs": [
    {
     "name": "stdout",
     "output_type": "stream",
     "text": [
      "          group  subscribed  not_subscribed\n",
      "0       control    7.203390       92.796610\n",
      "1  experimental   19.067797       80.932203\n"
     ]
    }
   ],
   "source": [
    "# Calculating the percentage of subscribed and not subscribed for ech group\n",
    "perc=data.groupby(\"group\").mean()[\"subscribed\"].reset_index()\n",
    "perc[\"not_subscribed\"]=1-perc[\"subscribed\"]\n",
    "\n",
    "perc[\"subscribed\"]=perc[\"subscribed\"]*100\n",
    "perc[\"not_subscribed\"]=perc[\"not_subscribed\"]*100\n",
    "\n",
    "print(perc)"
   ]
  },
  {
   "cell_type": "markdown",
   "id": "square-detector",
   "metadata": {},
   "source": [
    "As we can see, only 7.24% of the users from the control joined the subscription, whereas almost 19% of the users subscribed in the the experimental group. It looks like the new webpage design might have significantly improved the subscription rate."
   ]
  },
  {
   "cell_type": "code",
   "execution_count": 18,
   "id": "nuclear-description",
   "metadata": {},
   "outputs": [
    {
     "data": {
      "text/plain": [
       "<matplotlib.legend.Legend at 0x1fba7d608b0>"
      ]
     },
     "execution_count": 18,
     "metadata": {},
     "output_type": "execute_result"
    },
    {
     "data": {
      "image/png": "[encoded data removed]",
      "text/plain": [
       "<Figure size 576x396 with 1 Axes>"
      ]
     },
     "metadata": {
      "needs_background": "light"
     },
     "output_type": "display_data"
    }
   ],
   "source": [
    "# Plot the subscription percentage comparison between two groups\n",
    "\n",
    "fig = plt.figure(figsize=(8, 5.5))\n",
    "ax = fig.add_axes([0,0,1,1])\n",
    "\n",
    "ax.bar(perc[\"group\"], perc[\"not_subscribed\"],width=0.65)\n",
    "ax.bar(perc[\"group\"], perc[\"subscribed\"],width=0.65,bottom=perc[\"not_subscribed\"])\n",
    "\n",
    "ax.set_ylabel('% visitors',fontweight='bold')\n",
    "ax.set_xlabel(\"groups\",fontweight='bold')\n",
    "ax.set_title('Subscription percentage comparison between two groups',fontweight='bold',pad=20)\n",
    "plt.ylim([0, 109])\n",
    "ax.legend(labels=['Not subscribed', 'Subscribed'],bbox_to_anchor=(1.45,0.9), loc=1)"
   ]
  },
  {
   "cell_type": "markdown",
   "id": "clear-efficiency",
   "metadata": {},
   "source": [
    "The percentage of subscribed users in the experimental group is higher than in the control group. But is this difference **statistically significant**?"
   ]
  },
  {
   "cell_type": "markdown",
   "id": "therapeutic-consciousness",
   "metadata": {},
   "source": [
    "\n",
    "## 5. Hypothesis testing"
   ]
  },
  {
   "cell_type": "markdown",
   "id": "naked-contact",
   "metadata": {},
   "source": [
    "To answer this question we will test our null hypothesis stated in the section [Designing the experiment](#2.-Designing-the-experiment):\n",
    "    \n",
    "$H_0$ :   the subscription rates of the new design (Design B shown to the visitors from the experimental group) and the old design (Design A shown to the visitors from the control group) are the same and any existing difference between those rates is not statistically significant.\n",
    "    \n",
    "The alternative hypotheis $H_1$ would be that there is a statistically significant difference between the subscription rates in the two groups.\n",
    "\n",
    "Given that the sizes of our samples are large enough, we can use z-test to test our $H_0$ hypothesis: wee will calculate the 𝑝 -value and confidence intervals useing the statsmodels.stats.proportion module."
   ]
  },
  {
   "cell_type": "code",
   "execution_count": 19,
   "id": "specific-climb",
   "metadata": {},
   "outputs": [],
   "source": [
    "# Making necessary import\n",
    "from statsmodels.stats.proportion import proportions_ztest, proportion_confint\n",
    "\n",
    "control = data[data['group'] == 'control']['subscribed']\n",
    "experimental= data[data['group'] == 'experimental']['subscribed']"
   ]
  },
  {
   "cell_type": "code",
   "execution_count": 20,
   "id": "specialized-registrar",
   "metadata": {},
   "outputs": [
    {
     "name": "stdout",
     "output_type": "stream",
     "text": [
      "Z-Test Results:\n",
      "z statistic: -3.82\n",
      "p-value: 0.00014\n",
      "95% confidence interval for control group: [0.039, 0.105]\n",
      "95% confidence interval for experimental group: [0.141, 0.241]\n"
     ]
    }
   ],
   "source": [
    "n_con = control.count()\n",
    "n_exp = experimental.count()\n",
    "successes = [control.sum(), experimental.sum()]\n",
    "nobs = [n_con, n_exp]\n",
    "\n",
    "z_stat, pval = proportions_ztest(successes, nobs=nobs)\n",
    "(lower_con, lower_exp), (upper_con, upper_exp) = proportion_confint(successes, nobs=nobs, alpha=0.05)\n",
    "\n",
    "print('Z-Test Results:')\n",
    "print(f'z statistic: {z_stat:.2f}')\n",
    "print(f'p-value: {pval:.5f}')\n",
    "print(f'95% confidence interval for control group: [{lower_con:.3f}, {upper_con:.3f}]')\n",
    "print(f'95% confidence interval for experimental group: [{lower_exp:.3f}, {upper_exp:.3f}]')"
   ]
  },
  {
   "cell_type": "markdown",
   "id": "restricted-worry",
   "metadata": {},
   "source": [
    "\n",
    "## 6. Conclusions"
   ]
  },
  {
   "cell_type": "markdown",
   "id": "personalized-fairy",
   "metadata": {},
   "source": [
    "The $p$-value that we obtained is 0.00014 is significantly lower than $\\alpha$=0.05, thus,  we can reject the null hypothesis $H_0$, which means that the new design leads to statistically significant increment in the opt-in subscription rate.\n",
    "\n",
    "\n",
    "Also, if we look at the confidence intervals for the `control` and `experimental` groups ([0.039, 0.104], i.e. 3.9-10.4% and [0.139, 0.239], i.e. 13.9-23.9%), we can notice that:\n",
    "\n",
    "* The confidence intervals do not crooss.\n",
    "* The confidence interval for the `experimental` group includes our desired value of 15% of subscribers.\n",
    "\n",
    "This means is that the new web page design resulted in a significant improvement of the subscription rate and that with the new webpage design we will probably will reach the desired amount of subscribers.\n",
    "\n",
    "In conclusion, the reason why the web page design leads to a significant increment in the number of opt-in subscribers is probably that the new design only asks users for the minimum information needed for a subscription (user's email address), whereas the in the old web page design the user needed to provide more additional information to join the usbcription (the first and last names, and the telephone number). This additional information is obviously can be categorized as sensitive, and users might have doubts their privacy and security - they are more prone to not submitting the subscription form."
   ]
  }
 ],
 "metadata": {
  "kernelspec": {
   "display_name": "Python 3",
   "language": "python",
   "name": "python3"
  },
  "language_info": {
   "codemirror_mode": {
    "name": "ipython",
    "version": 3
   },
   "file_extension": ".py",
   "mimetype": "text/x-python",
   "name": "python",
   "nbconvert_exporter": "python",
   "pygments_lexer": "ipython3",
   "version": "3.9.2"
  }
 },
 "nbformat": 4,
 "nbformat_minor": 5
}
